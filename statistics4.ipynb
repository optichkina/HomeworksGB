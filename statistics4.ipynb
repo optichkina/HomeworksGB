{
  "nbformat": 4,
  "nbformat_minor": 0,
  "metadata": {
    "colab": {
      "name": "statistics4.ipynb",
      "provenance": [],
      "authorship_tag": "ABX9TyP/h6jPaE49WSLpL17dL9Ij",
      "include_colab_link": true
    },
    "kernelspec": {
      "name": "python3",
      "display_name": "Python 3"
    },
    "language_info": {
      "name": "python"
    }
  },
  "cells": [
    {
      "cell_type": "markdown",
      "metadata": {
        "id": "view-in-github",
        "colab_type": "text"
      },
      "source": [
        "<a href=\"https://colab.research.google.com/github/optichkina/HomeworksGB/blob/statistics/statistics4.ipynb\" target=\"_parent\"><img src=\"https://colab.research.google.com/assets/colab-badge.svg\" alt=\"Open In Colab\"/></a>"
      ]
    },
    {
      "cell_type": "code",
      "metadata": {
        "id": "ueH27czO2dth"
      },
      "source": [
        ""
      ],
      "execution_count": null,
      "outputs": []
    },
    {
      "cell_type": "markdown",
      "metadata": {
        "id": "6a2RdDsb2jKH"
      },
      "source": [
        "#задание 4\n",
        "Рост взрослого населения города X имеет нормальное распределение.\n",
        "Причем, средний рост равен 174 см, а среднее квадратичное отклонение равно 8 см.\n",
        "Какова вероятность того, что случайным образом выбранный взрослый человек имеет рост:\n",
        "а). больше 182 см\n",
        "б). больше 190 см\n",
        "в). от 166 см до 190 см\n",
        "г). от 166 см до 182 см\n",
        "д). от 158 см до 190 см\n",
        "е). не выше 150 см или не ниже 190 см\n",
        "ё). не выше 150 см или не ниже 198 см\n",
        "ж). ниже 166 см."
      ]
    },
    {
      "cell_type": "code",
      "metadata": {
        "id": "_n8Nsv822wOQ"
      },
      "source": [
        "import numpy as np\n",
        "sigma = 8       # среднеквадратичное отклонение\n",
        "mo = 174        # математическое ожидание\n",
        "n = 100000000    # размер массива\n",
        "\n",
        "np.random.seed(42)\n",
        "a = sigma * np.random.randn(n) + mo\n"
      ],
      "execution_count": 2,
      "outputs": []
    },
    {
      "cell_type": "code",
      "metadata": {
        "colab": {
          "base_uri": "https://localhost:8080/"
        },
        "id": "sTmwCsVR3XVz",
        "outputId": "1ea2c25e-a0d8-4fc1-88d0-d4795d4b6e78"
      },
      "source": [
        "\n",
        "a[a>182].shape[0]/a.shape[0]      #рост более 182см"
      ],
      "execution_count": 3,
      "outputs": [
        {
          "output_type": "execute_result",
          "data": {
            "text/plain": [
              "0.15863528"
            ]
          },
          "metadata": {},
          "execution_count": 3
        }
      ]
    },
    {
      "cell_type": "code",
      "metadata": {
        "colab": {
          "base_uri": "https://localhost:8080/"
        },
        "id": "C6BZ_Xr03lh1",
        "outputId": "8af110fb-91ca-42e9-c9f7-a5778c486176"
      },
      "source": [
        "\n",
        "a[a>190].shape[0]/a.shape[0] #рост больше 190см"
      ],
      "execution_count": 4,
      "outputs": [
        {
          "output_type": "execute_result",
          "data": {
            "text/plain": [
              "0.02275473"
            ]
          },
          "metadata": {},
          "execution_count": 4
        }
      ]
    },
    {
      "cell_type": "code",
      "metadata": {
        "colab": {
          "base_uri": "https://localhost:8080/"
        },
        "id": "EcfuAP293vn1",
        "outputId": "1a97065e-dbad-4635-8c5c-95a1476edd41"
      },
      "source": [
        "a[(a >= 166) & (a <= 190)].shape[0]/a.shape[0]    #от 166 до 190см"
      ],
      "execution_count": 5,
      "outputs": [
        {
          "output_type": "execute_result",
          "data": {
            "text/plain": [
              "0.81851134"
            ]
          },
          "metadata": {},
          "execution_count": 5
        }
      ]
    },
    {
      "cell_type": "code",
      "metadata": {
        "colab": {
          "base_uri": "https://localhost:8080/"
        },
        "id": "H97v7Hfy34Pg",
        "outputId": "9ddd8200-014a-4de5-baca-127f9cc39b28"
      },
      "source": [
        "a[(a >= 166) & (a <= 182)].shape[0]/a.shape[0]    #от 166 до 182см"
      ],
      "execution_count": 6,
      "outputs": [
        {
          "output_type": "execute_result",
          "data": {
            "text/plain": [
              "0.68263079"
            ]
          },
          "metadata": {},
          "execution_count": 6
        }
      ]
    },
    {
      "cell_type": "code",
      "metadata": {
        "colab": {
          "base_uri": "https://localhost:8080/"
        },
        "id": "GKyOYLvp4HL3",
        "outputId": "dcaf2848-4b92-4ac7-ff9c-242c1358ef88"
      },
      "source": [
        "a[(a >= 158) & (a <= 190)].shape[0]/a.shape[0]  #от 158 до 190см"
      ],
      "execution_count": 7,
      "outputs": [
        {
          "output_type": "execute_result",
          "data": {
            "text/plain": [
              "0.95447362"
            ]
          },
          "metadata": {},
          "execution_count": 7
        }
      ]
    },
    {
      "cell_type": "code",
      "metadata": {
        "colab": {
          "base_uri": "https://localhost:8080/"
        },
        "id": "Kkl458MA4Oka",
        "outputId": "fe9cf61e-cb48-44a0-d4fa-c820326859ca"
      },
      "source": [
        "a[(a <= 150) | (a >= 190)].shape[0]/a.shape[0]   #не выше 150 см или не ниже 190 см"
      ],
      "execution_count": 8,
      "outputs": [
        {
          "output_type": "execute_result",
          "data": {
            "text/plain": [
              "0.02410614"
            ]
          },
          "metadata": {},
          "execution_count": 8
        }
      ]
    },
    {
      "cell_type": "code",
      "metadata": {
        "colab": {
          "base_uri": "https://localhost:8080/"
        },
        "id": "LdJ3jiLQ4bdQ",
        "outputId": "dc780f11-3be0-4969-c58f-fe283304ddec"
      },
      "source": [
        "a[(a <= 150) | (a >= 198)].shape[0]/a.shape[0]    #не выше 150 см или не ниже 198 см"
      ],
      "execution_count": 9,
      "outputs": [
        {
          "output_type": "execute_result",
          "data": {
            "text/plain": [
              "0.00269871"
            ]
          },
          "metadata": {},
          "execution_count": 9
        }
      ]
    },
    {
      "cell_type": "code",
      "metadata": {
        "colab": {
          "base_uri": "https://localhost:8080/"
        },
        "id": "yzmoQYnO4pAB",
        "outputId": "06f4d878-e098-47ce-e8cf-adfd75bd96a2"
      },
      "source": [
        "a[a<166].shape[0]/a.shape[0]   #ниже 166 см"
      ],
      "execution_count": 10,
      "outputs": [
        {
          "output_type": "execute_result",
          "data": {
            "text/plain": [
              "0.15873393"
            ]
          },
          "metadata": {},
          "execution_count": 10
        }
      ]
    },
    {
      "cell_type": "markdown",
      "metadata": {
        "id": "RpovEYml4vD8"
      },
      "source": [
        "#задание 5\n",
        "На сколько сигм (средних квадратичных отклонений) отклоняется рост человека, равный 190 см, от\n",
        "математического ожидания роста в популяции, в которой M(X) = 178 см и D(X) = 25 кв.см?\n",
        "\n"
      ]
    },
    {
      "cell_type": "code",
      "metadata": {
        "colab": {
          "base_uri": "https://localhost:8080/"
        },
        "id": "UfEMZqAT43Gj",
        "outputId": "1c2c883a-12fe-40cb-9272-64103329cbf1"
      },
      "source": [
        "(190-178)/5"
      ],
      "execution_count": 11,
      "outputs": [
        {
          "output_type": "execute_result",
          "data": {
            "text/plain": [
              "2.4"
            ]
          },
          "metadata": {},
          "execution_count": 11
        }
      ]
    }
  ]
}