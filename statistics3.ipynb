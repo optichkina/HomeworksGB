{
  "nbformat": 4,
  "nbformat_minor": 0,
  "metadata": {
    "colab": {
      "name": "statistics3.ipynb",
      "provenance": [],
      "authorship_tag": "ABX9TyOwxCRAbCNH1MUyEqTXC14v",
      "include_colab_link": true
    },
    "kernelspec": {
      "name": "python3",
      "display_name": "Python 3"
    },
    "language_info": {
      "name": "python"
    }
  },
  "cells": [
    {
      "cell_type": "markdown",
      "metadata": {
        "id": "view-in-github",
        "colab_type": "text"
      },
      "source": [
        "<a href=\"https://colab.research.google.com/github/optichkina/HomeworksGB/blob/statistics/statistics3.ipynb\" target=\"_parent\"><img src=\"https://colab.research.google.com/assets/colab-badge.svg\" alt=\"Open In Colab\"/></a>"
      ]
    },
    {
      "cell_type": "code",
      "metadata": {
        "id": "Ywy9D7C7O9BV"
      },
      "source": [
        ""
      ],
      "execution_count": null,
      "outputs": []
    },
    {
      "cell_type": "markdown",
      "metadata": {
        "id": "O-ic4KamO9nz"
      },
      "source": [
        "#Задание 2\n",
        "В первом ящике находится 8 мячей, из которых 5 - белые. Во втором ящике - 12 мячей, из которых 5 белых. Из первого ящика вытаскивают случайным образом два мяча, из второго - 4. Какова вероятность того, что 3 мяча белые?"
      ]
    },
    {
      "cell_type": "markdown",
      "metadata": {
        "id": "CrjcNZ9Hq09_"
      },
      "source": [
        "3 варианта: 2 мяча из первого ящика и 1 из второго, 1 мяч из первого ящика и 2 мяча из второго, 3 белых мяча из второго ящика"
      ]
    },
    {
      "cell_type": "code",
      "metadata": {
        "colab": {
          "base_uri": "https://localhost:8080/"
        },
        "id": "I97BthIsPKq1",
        "outputId": "43b63235-76c8-4639-dd10-f0cb8f392998"
      },
      "source": [
        "from math import factorial as f\n",
        "\n",
        "def ch(n,k):\n",
        "    return f(n) / (f(k) * f(n-k))\n",
        "(ch(5,2)/ch(8,2)) * (ch(5,1)*ch(7,3)/ch(12,4)) + \\\n",
        "(ch(5,1)*ch(3,1)/ch(8,2)) * (ch(5,2)*ch(7,2)/ch(12,4)) + \\\n",
        "(ch(3,2)*ch(5,0)/ch(8,2)) * (ch(5,3)*ch(7,1)/ch(12,4))"
      ],
      "execution_count": 1,
      "outputs": [
        {
          "output_type": "execute_result",
          "data": {
            "text/plain": [
              "0.3686868686868687"
            ]
          },
          "metadata": {},
          "execution_count": 1
        }
      ]
    },
    {
      "cell_type": "markdown",
      "metadata": {
        "id": "ClNlN7GErzoN"
      },
      "source": [
        "#Задание 3\n",
        "На соревновании по биатлону один из трех спортсменов стреляет и попадает в мишень. Вероятность попадания для первого спортсмена равна 0.9, для второго — 0.8, для третьего — 0.6. Найти вероятность того, что выстрел произведен: a). первым спортсменом б). вторым спортсменом в). третьим спортсменом. "
      ]
    },
    {
      "cell_type": "code",
      "metadata": {
        "colab": {
          "base_uri": "https://localhost:8080/"
        },
        "id": "3DfjYkQ_sJRU",
        "outputId": "1a1e939c-0be5-47f7-a024-a2d44c48c055"
      },
      "source": [
        "\n",
        "P = 1/3*0.9 + 1/3*0.8 + 1/3*0.6\n",
        "P"
      ],
      "execution_count": 5,
      "outputs": [
        {
          "output_type": "execute_result",
          "data": {
            "text/plain": [
              "0.7666666666666666"
            ]
          },
          "metadata": {},
          "execution_count": 5
        }
      ]
    },
    {
      "cell_type": "code",
      "metadata": {
        "colab": {
          "base_uri": "https://localhost:8080/"
        },
        "id": "naUwN_AOsm40",
        "outputId": "645071be-3f54-4f82-b2d3-46e10e4449cf"
      },
      "source": [
        "Chance_1 = 1/3*0.9/P     #вероятность выстрела первым спортсменом\n",
        "Chance_1"
      ],
      "execution_count": 10,
      "outputs": [
        {
          "output_type": "execute_result",
          "data": {
            "text/plain": [
              "0.391304347826087"
            ]
          },
          "metadata": {},
          "execution_count": 10
        }
      ]
    },
    {
      "cell_type": "code",
      "metadata": {
        "colab": {
          "base_uri": "https://localhost:8080/"
        },
        "id": "vRdIuAggtZnI",
        "outputId": "4234ddc3-7281-492f-fd78-d83ef3f3d7f2"
      },
      "source": [
        "Chance_2 = 1/3*0.8 /P  #вероятность выстрела второго спортсмена\n",
        "Chance_2"
      ],
      "execution_count": 12,
      "outputs": [
        {
          "output_type": "execute_result",
          "data": {
            "text/plain": [
              "0.3478260869565218"
            ]
          },
          "metadata": {},
          "execution_count": 12
        }
      ]
    },
    {
      "cell_type": "code",
      "metadata": {
        "colab": {
          "base_uri": "https://localhost:8080/"
        },
        "id": "nlA79137tvEs",
        "outputId": "36ba7716-2349-4315-a0b4-ca2ed529d9b9"
      },
      "source": [
        "Chance_3 = 1/3*0.6/P   #вероятность выстрела третьим спортсменом\n",
        "Chance_3"
      ],
      "execution_count": 8,
      "outputs": [
        {
          "output_type": "execute_result",
          "data": {
            "text/plain": [
              "0.2608695652173913"
            ]
          },
          "metadata": {},
          "execution_count": 8
        }
      ]
    },
    {
      "cell_type": "markdown",
      "metadata": {
        "id": "Lo0sfupgu_b-"
      },
      "source": [
        "#Задание 4\n",
        "В университет на факультеты A и B поступило равное количество студентов, а на факультет C студентов поступило столько же, сколько на A и B вместе. Вероятность того, что студент факультета A сдаст первую сессию, равна 0.8. Для студента факультета B эта вероятность равна 0.7, а для студента факультета C - 0.9. Студент сдал первую сессию. Какова вероятность, что он учится: a). на факультете A б). на факультете B в). на факультете C?"
      ]
    },
    {
      "cell_type": "code",
      "metadata": {
        "colab": {
          "base_uri": "https://localhost:8080/"
        },
        "id": "2r0fnKBcvL-g",
        "outputId": "81f12134-7d3f-4b65-8ed3-a927aafacb8b"
      },
      "source": [
        "\n",
        "P = 1/4*0.8 + 1/4*0.7 + 1/2*0.9\n",
        "P"
      ],
      "execution_count": 15,
      "outputs": [
        {
          "output_type": "execute_result",
          "data": {
            "text/plain": [
              "0.825"
            ]
          },
          "metadata": {},
          "execution_count": 15
        }
      ]
    },
    {
      "cell_type": "code",
      "metadata": {
        "colab": {
          "base_uri": "https://localhost:8080/"
        },
        "id": "l0UF_DvqvS8k",
        "outputId": "490dee41-9f69-4fe7-90db-577f4b9d38f9"
      },
      "source": [
        "\n",
        "f_1 = 1/4*0.8 / P   #вероятность того, что студент учится на факультете А\n",
        "f_1"
      ],
      "execution_count": 17,
      "outputs": [
        {
          "output_type": "execute_result",
          "data": {
            "text/plain": [
              "0.24242424242424246"
            ]
          },
          "metadata": {},
          "execution_count": 17
        }
      ]
    },
    {
      "cell_type": "code",
      "metadata": {
        "colab": {
          "base_uri": "https://localhost:8080/"
        },
        "id": "KCkLsbeGvkR6",
        "outputId": "7add13d0-f91e-4974-a574-62038e7874cf"
      },
      "source": [
        "f_2 = 1/4*0.7 / P   #на факультете В\n",
        "f_2"
      ],
      "execution_count": 18,
      "outputs": [
        {
          "output_type": "execute_result",
          "data": {
            "text/plain": [
              "0.21212121212121213"
            ]
          },
          "metadata": {},
          "execution_count": 18
        }
      ]
    },
    {
      "cell_type": "code",
      "metadata": {
        "colab": {
          "base_uri": "https://localhost:8080/"
        },
        "id": "MzZrFK9uvuD4",
        "outputId": "02ef32c3-3fda-49d7-a475-092b06d6cc34"
      },
      "source": [
        "f_3 = 1/2*0.9 / P     #на факультете С\n",
        "f_3"
      ],
      "execution_count": 19,
      "outputs": [
        {
          "output_type": "execute_result",
          "data": {
            "text/plain": [
              "0.5454545454545455"
            ]
          },
          "metadata": {},
          "execution_count": 19
        }
      ]
    },
    {
      "cell_type": "markdown",
      "metadata": {
        "id": "Scvy9Gy6v2DN"
      },
      "source": [
        "#задание 5\n",
        "Устройство состоит из трех деталей. Для первой детали вероятность выйти из строя в первый месяц равна 0.1, для второй - 0.2, для третьей - 0.25. Какова вероятность того, что в первый месяц выйдут из строя: а). все детали б). только две детали в). хотя бы одна деталь г). от одной до двух деталей?"
      ]
    },
    {
      "cell_type": "code",
      "metadata": {
        "colab": {
          "base_uri": "https://localhost:8080/"
        },
        "id": "3al6wiF8wCPH",
        "outputId": "d704adaa-1d6b-45e2-b8bf-195536a783d6"
      },
      "source": [
        "P_a = 0.1 * 0.2 * 0.25    #все детали\n",
        "P_a"
      ],
      "execution_count": 20,
      "outputs": [
        {
          "output_type": "execute_result",
          "data": {
            "text/plain": [
              "0.005000000000000001"
            ]
          },
          "metadata": {},
          "execution_count": 20
        }
      ]
    },
    {
      "cell_type": "code",
      "metadata": {
        "colab": {
          "base_uri": "https://localhost:8080/"
        },
        "id": "QkoA_z9kwN1s",
        "outputId": "75bd2406-1351-4b05-f295-36920cf90d57"
      },
      "source": [
        "0.1*0.2*(1-0.25) + 0.1*(1-0.2)*0.25 + (1-0.1)*0.2*0.25    #только 2 детали, варианты:а)первая и вторая, б)вторая и третья, в)первая и третья"
      ],
      "execution_count": 21,
      "outputs": [
        {
          "output_type": "execute_result",
          "data": {
            "text/plain": [
              "0.08000000000000002"
            ]
          },
          "metadata": {},
          "execution_count": 21
        }
      ]
    },
    {
      "cell_type": "code",
      "metadata": {
        "colab": {
          "base_uri": "https://localhost:8080/"
        },
        "id": "6iocisZPwmPC",
        "outputId": "149f8761-7130-4468-b4a7-08af9368f007"
      },
      "source": [
        "1-((1-0.25)*(1-0.2)*(1-0.1))     #одна деталь"
      ],
      "execution_count": 22,
      "outputs": [
        {
          "output_type": "execute_result",
          "data": {
            "text/plain": [
              "0.45999999999999985"
            ]
          },
          "metadata": {},
          "execution_count": 22
        }
      ]
    },
    {
      "cell_type": "code",
      "metadata": {
        "colab": {
          "base_uri": "https://localhost:8080/"
        },
        "id": "0dpo2BgPwtcu",
        "outputId": "430f2ab1-d105-4970-d32d-6f058375f792"
      },
      "source": [
        "0.1*(1-0.2)*(1-0.25) + (1-0.1)*0.2*(1-0.25) + (1-0.1)*(1-0.2)*0.25 + 0.1*0.2*(1-0.25) + 0.1*(1-0.2)*0.25 + (1-0.1)*0.2*0.25     #хотя бы одна деталь выйдет из строя. есть 6 вариантов развития событий:1)первая и вторая, 2)вторая и третья, 3)первая и третья, 4)только первая, 5)только вторая, 6) только третья "
      ],
      "execution_count": 23,
      "outputs": [
        {
          "output_type": "execute_result",
          "data": {
            "text/plain": [
              "0.455"
            ]
          },
          "metadata": {},
          "execution_count": 23
        }
      ]
    }
  ]
}