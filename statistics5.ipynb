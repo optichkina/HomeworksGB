{
  "nbformat": 4,
  "nbformat_minor": 0,
  "metadata": {
    "colab": {
      "name": "statistics5.ipynb",
      "provenance": [],
      "authorship_tag": "ABX9TyMaCe1twFKK1dc1vrjo/tIj",
      "include_colab_link": true
    },
    "kernelspec": {
      "name": "python3",
      "display_name": "Python 3"
    },
    "language_info": {
      "name": "python"
    }
  },
  "cells": [
    {
      "cell_type": "markdown",
      "metadata": {
        "id": "view-in-github",
        "colab_type": "text"
      },
      "source": [
        "<a href=\"https://colab.research.google.com/github/optichkina/HomeworksGB/blob/statistics/statistics5.ipynb\" target=\"_parent\"><img src=\"https://colab.research.google.com/assets/colab-badge.svg\" alt=\"Open In Colab\"/></a>"
      ]
    },
    {
      "cell_type": "markdown",
      "metadata": {
        "id": "kSvWZgymkIBq"
      },
      "source": [
        "#задание 1\n",
        "Известно, что генеральная совокупность распределена нормально со средним квадратическим отклонением, равным 16. Найти доверительный интервал для оценки математического ожидания a с надежностью 0.95, если выборочная средняя M = 80, а объем выборки n = 256."
      ]
    },
    {
      "cell_type": "code",
      "metadata": {
        "id": "ZazLbwA4lHQ-"
      },
      "source": [
        "from scipy.stats import laplace\n",
        "import math\n",
        "import scipy\n",
        "import numpy as np"
      ],
      "execution_count": 3,
      "outputs": []
    },
    {
      "cell_type": "code",
      "metadata": {
        "id": "9ZnrV6w9mLt5"
      },
      "source": [
        "t = 1,96 #из таблицы Лапласа"
      ],
      "execution_count": null,
      "outputs": []
    },
    {
      "cell_type": "code",
      "metadata": {
        "colab": {
          "base_uri": "https://localhost:8080/"
        },
        "id": "9BjmEUJDlZjT",
        "outputId": "61c633fa-3e1d-4e26-f0bb-d7e53cd9c387"
      },
      "source": [
        "delta = t * 16 / math.sqrt(256)\n",
        "delta"
      ],
      "execution_count": 4,
      "outputs": [
        {
          "output_type": "execute_result",
          "data": {
            "text/plain": [
              "1.96"
            ]
          },
          "metadata": {},
          "execution_count": 4
        }
      ]
    },
    {
      "cell_type": "code",
      "metadata": {
        "colab": {
          "base_uri": "https://localhost:8080/"
        },
        "id": "oy0CbPDhmcHS",
        "outputId": "1ceb852c-b31d-4fc1-fc29-043a3cedecaa"
      },
      "source": [
        "80-delta, 80+delta     #доверительный интервал"
      ],
      "execution_count": 5,
      "outputs": [
        {
          "output_type": "execute_result",
          "data": {
            "text/plain": [
              "(78.04, 81.96)"
            ]
          },
          "metadata": {},
          "execution_count": 5
        }
      ]
    },
    {
      "cell_type": "markdown",
      "metadata": {
        "id": "CixSaMBJkNMc"
      },
      "source": [
        "#задание 2\n",
        "В результате 10 независимых измерений некоторой величины X, выполненных с одинаковой точностью, получены опытные данные: 6.9, 6.1, 6.2, 6.8, 7.5, 6.3, 6.4, 6.9, 6.7, 6.1 Предполагая, что результаты измерений подчинены нормальному закону распределения вероятностей, оценить истинное значение величины X при помощи доверительного интервала, покрывающего это значение с доверительной вероятностью 0,95."
      ]
    },
    {
      "cell_type": "code",
      "metadata": {
        "colab": {
          "base_uri": "https://localhost:8080/"
        },
        "id": "nTjNqFvVm5Aj",
        "outputId": "d6db5895-0a57-4eff-b489-97b2b26dc23b"
      },
      "source": [
        "x = np.array([6.9, 6.1, 6.2, 6.8, 7.5, 6.3, 6.4, 6.9, 6.7, 6.1])\n",
        "t = 2.262\n",
        "sigma = x.std()\n",
        "delta = t * sigma / math.sqrt(x.size)\n",
        "delta"
      ],
      "execution_count": 10,
      "outputs": [
        {
          "output_type": "execute_result",
          "data": {
            "text/plain": [
              "0.30591407087612044"
            ]
          },
          "metadata": {},
          "execution_count": 10
        }
      ]
    },
    {
      "cell_type": "code",
      "metadata": {
        "colab": {
          "base_uri": "https://localhost:8080/"
        },
        "id": "6KMOPSuOpwdw",
        "outputId": "9845625b-d4a3-4d3f-fb60-ed0947cee454"
      },
      "source": [
        "print(f'Доверительный интревал: ({x.mean()-delta:.2f}\\t{x.mean()+delta:.2f})')"
      ],
      "execution_count": 11,
      "outputs": [
        {
          "output_type": "stream",
          "name": "stdout",
          "text": [
            "Доверительный интревал: (6.28\t6.90)\n"
          ]
        }
      ]
    },
    {
      "cell_type": "markdown",
      "metadata": {
        "id": "J5DNZRGRp0-C"
      },
      "source": [
        "#задание 3\n",
        "Утверждается, что шарики для подшипников, изготовленные автоматическим станком, имеют средний диаметр 17 мм. Используя односторонний критерий с α=0,05, проверить эту гипотезу, если в выборке из n=100 шариков средний диаметр оказался равным 17.5 мм, а дисперсия известна и равна 4 кв.мм.\n",
        "# H0=17\n",
        "# H1>17"
      ]
    },
    {
      "cell_type": "code",
      "metadata": {
        "colab": {
          "base_uri": "https://localhost:8080/"
        },
        "id": "_Ulu3i5hqKTU",
        "outputId": "67f20cb0-220d-44f5-cf58-d41ad414c9b9"
      },
      "source": [
        "z1 = ((17.5 - 17) / math.sqrt(4)) * (math.sqrt(100))  #z расчетное\n",
        "z1"
      ],
      "execution_count": 12,
      "outputs": [
        {
          "output_type": "execute_result",
          "data": {
            "text/plain": [
              "2.5"
            ]
          },
          "metadata": {},
          "execution_count": 12
        }
      ]
    },
    {
      "cell_type": "code",
      "metadata": {
        "id": "OOzk0V4nyO1Q"
      },
      "source": [
        "z2 = 1.645  #z табличное\n"
      ],
      "execution_count": null,
      "outputs": []
    },
    {
      "cell_type": "markdown",
      "metadata": {
        "id": "DazX-V_iyaxa"
      },
      "source": [
        "z расчетное > z табличного:\n",
        "принимаем альтернативную гипотезу"
      ]
    },
    {
      "cell_type": "markdown",
      "metadata": {
        "id": "OdQ2avF0ynzS"
      },
      "source": [
        "# задание 4\n",
        "Продавец утверждает, что средний вес пачки печенья составляет 200 г. Из партии извлечена выборка из 10 пачек. Вес каждой пачки составляет: 202, 203, 199, 197, 195, 201, 200, 204, 194, 190. Известно, что их веса распределены нормально. Верно ли утверждение продавца, если учитывать, что доверительная вероятность равна 99%?"
      ]
    },
    {
      "cell_type": "code",
      "metadata": {
        "colab": {
          "base_uri": "https://localhost:8080/"
        },
        "id": "H0bvvUECy93a",
        "outputId": "818ed6c9-1e81-4fbe-ae98-8a8b4d59292b"
      },
      "source": [
        "a = np.array([202, 203, 199, 197, 195, 201, 200, 204, 194, 190])\n",
        "n = a.size\n",
        "a.mean()"
      ],
      "execution_count": 13,
      "outputs": [
        {
          "output_type": "execute_result",
          "data": {
            "text/plain": [
              "198.5"
            ]
          },
          "metadata": {},
          "execution_count": 13
        }
      ]
    },
    {
      "cell_type": "code",
      "metadata": {
        "colab": {
          "base_uri": "https://localhost:8080/"
        },
        "id": "xVOsl0ST1F2N",
        "outputId": "78d9ba88-5d93-4a36-8cea-f9753acd1558"
      },
      "source": [
        "variance = x.var(ddof=1)\n",
        "variance"
      ],
      "execution_count": 16,
      "outputs": [
        {
          "output_type": "execute_result",
          "data": {
            "text/plain": [
              "0.2032222222222223"
            ]
          },
          "metadata": {},
          "execution_count": 16
        }
      ]
    },
    {
      "cell_type": "code",
      "metadata": {
        "colab": {
          "base_uri": "https://localhost:8080/"
        },
        "id": "Ox3wdMkD1epi",
        "outputId": "705695fc-d2d2-4aeb-c3e0-0e71264029be"
      },
      "source": [
        "s = (variance)**0.5\n",
        "s"
      ],
      "execution_count": 17,
      "outputs": [
        {
          "output_type": "execute_result",
          "data": {
            "text/plain": [
              "0.4508017549014448"
            ]
          },
          "metadata": {},
          "execution_count": 17
        }
      ]
    },
    {
      "cell_type": "code",
      "metadata": {
        "colab": {
          "base_uri": "https://localhost:8080/"
        },
        "id": "VdpbeqwJzQAj",
        "outputId": "6c09bbfe-f451-4cf3-a165-d7ad6a6b76d8"
      },
      "source": [
        "t1 = ((198.5 - 200) * (10)**0.5) /(0.4508)\n",
        "t1                                                                #???????"
      ],
      "execution_count": 29,
      "outputs": [
        {
          "output_type": "execute_result",
          "data": {
            "text/plain": [
              "-10.522219366132585"
            ]
          },
          "metadata": {},
          "execution_count": 29
        }
      ]
    },
    {
      "cell_type": "code",
      "metadata": {
        "id": "DhRem8DXz5ZD"
      },
      "source": [
        "t2 = 3.25   #критерий Стьюдента"
      ],
      "execution_count": null,
      "outputs": []
    }
  ]
}