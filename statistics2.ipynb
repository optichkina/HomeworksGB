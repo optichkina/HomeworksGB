{
  "nbformat": 4,
  "nbformat_minor": 0,
  "metadata": {
    "colab": {
      "name": "statistics2.ipynb",
      "provenance": [],
      "authorship_tag": "ABX9TyN0L8XfAq7xArd29nqgSKs5",
      "include_colab_link": true
    },
    "kernelspec": {
      "name": "python3",
      "display_name": "Python 3"
    },
    "language_info": {
      "name": "python"
    }
  },
  "cells": [
    {
      "cell_type": "markdown",
      "metadata": {
        "id": "view-in-github",
        "colab_type": "text"
      },
      "source": [
        "<a href=\"https://colab.research.google.com/github/optichkina/HomeworksGB/blob/statistics/statistics2.ipynb\" target=\"_parent\"><img src=\"https://colab.research.google.com/assets/colab-badge.svg\" alt=\"Open In Colab\"/></a>"
      ]
    },
    {
      "cell_type": "markdown",
      "metadata": {
        "id": "Cma_LccPEbaB"
      },
      "source": [
        "задание 3.\n",
        "Монету подбросили 144 раза. Какова вероятность, что орел выпадет ровно 70 раз?"
      ]
    },
    {
      "cell_type": "code",
      "metadata": {
        "colab": {
          "base_uri": "https://localhost:8080/"
        },
        "id": "FWG3XIedO5Yt",
        "outputId": "8a6cd221-8bbe-46f7-eb1d-efc99d8efd29"
      },
      "source": [
        "import numpy as np\n",
        "from math import factorial\n",
        "\n",
        "def choose(n,k):\n",
        "    return factorial(n) / (factorial(k) * factorial(n-k))\n",
        "def bern(p, n, k):\n",
        "    return choose(n,k) * p**(k) * (1 - p)**(n - k)\n",
        "bern(0.5, 144, 70)\n",
        "\n"
      ],
      "execution_count": 26,
      "outputs": [
        {
          "output_type": "execute_result",
          "data": {
            "text/plain": [
              "0.06281178035144776"
            ]
          },
          "metadata": {},
          "execution_count": 26
        }
      ]
    },
    {
      "cell_type": "markdown",
      "metadata": {
        "id": "WOmcYzsjO-xO"
      },
      "source": [
        "задание 4. В первом ящике находится 10 мячей, из которых 7 - белые. Во втором ящике - 11 мячей, из которых 9 белых. Из каждого ящика вытаскивают случайным образом по два мяча. Какова вероятность того, что все мячи белые? Какова вероятность того, что ровно два мяча белые? Какова вероятность того, что хотя бы один мяч белый?"
      ]
    },
    {
      "cell_type": "code",
      "metadata": {
        "colab": {
          "base_uri": "https://localhost:8080/"
        },
        "id": "UxQFsFytPJlS",
        "outputId": "5a44a365-5ca6-45aa-9d29-ca3fe625326e"
      },
      "source": [
        "from math import factorial\n",
        "def combinations(n,k):\n",
        "  return int(factorial(n)/(factorial(k)*factorial(n-k)))\n",
        "combinations(7,2)/combinations(10,2)*combinations(9,2)/combinations(11,2) #все мячи белые\n"
      ],
      "execution_count": 3,
      "outputs": [
        {
          "output_type": "execute_result",
          "data": {
            "text/plain": [
              "0.3054545454545455"
            ]
          },
          "metadata": {},
          "execution_count": 3
        }
      ]
    },
    {
      "cell_type": "markdown",
      "metadata": {
        "id": "pHXySVEgC9EE"
      },
      "source": [
        "вероятность того, что все мячи белые:\n",
        "возможные варианты:\n",
        "(бб)(чч)\n",
        "(бч)(бч)\n",
        "(бч)(чб)\n",
        "(чб)(бч)\n",
        "(чч)(чб)\n",
        "(чч)(бб)"
      ]
    },
    {
      "cell_type": "code",
      "metadata": {
        "colab": {
          "base_uri": "https://localhost:8080/"
        },
        "id": "DTdkL698SLOo",
        "outputId": "65bbbc1a-5f4e-49b2-93de-7c11209085e0"
      },
      "source": [
        "(7/10)*(6/9)*(2/11)*(1/10) + (7/10)*(3/9)*(9/11)*(2/10) + (7/10)*(3/9)*(2/11)*(9/10) + \\\n",
        "(3/10)*(7/9)*(9/11)*(2/10) + (3/10)*(7/9)*(2/11)*(9/10) + (3/10)*(2/9)*(9/11)*(8/10)"
      ],
      "execution_count": 1,
      "outputs": [
        {
          "output_type": "execute_result",
          "data": {
            "text/plain": [
              "0.20484848484848484"
            ]
          },
          "metadata": {},
          "execution_count": 1
        }
      ]
    },
    {
      "cell_type": "markdown",
      "metadata": {
        "id": "T7a9QTSyD1OV"
      },
      "source": [
        "вероятность того, что все мячи белые\n"
      ]
    },
    {
      "cell_type": "code",
      "metadata": {
        "colab": {
          "base_uri": "https://localhost:8080/"
        },
        "id": "5I6q7noLEC-Y",
        "outputId": "329355f5-1ade-4b5a-edf5-da1a4ca0711c"
      },
      "source": [
        "1-(3/10*2/9*2/11*1/10)   #1-вероятность того, что все мячи черные"
      ],
      "execution_count": 2,
      "outputs": [
        {
          "output_type": "execute_result",
          "data": {
            "text/plain": [
              "0.9987878787878788"
            ]
          },
          "metadata": {},
          "execution_count": 2
        }
      ]
    },
    {
      "cell_type": "markdown",
      "metadata": {
        "id": "IPHeOe-PEZJ8"
      },
      "source": [
        ""
      ]
    }
  ]
}