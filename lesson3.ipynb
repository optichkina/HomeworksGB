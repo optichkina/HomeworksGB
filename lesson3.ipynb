{
  "nbformat": 4,
  "nbformat_minor": 0,
  "metadata": {
    "colab": {
      "name": "lesson3.ipynb",
      "provenance": [],
      "collapsed_sections": [],
      "authorship_tag": "ABX9TyOEFRjU/DOQhqULx4d2scQg",
      "include_colab_link": true
    },
    "kernelspec": {
      "name": "python3",
      "display_name": "Python 3"
    },
    "language_info": {
      "name": "python"
    }
  },
  "cells": [
    {
      "cell_type": "markdown",
      "metadata": {
        "id": "view-in-github",
        "colab_type": "text"
      },
      "source": [
        "<a href=\"https://colab.research.google.com/github/optichkina/HomeworksGB/blob/main/lesson3.ipynb\" target=\"_parent\"><img src=\"https://colab.research.google.com/assets/colab-badge.svg\" alt=\"Open In Colab\"/></a>"
      ]
    },
    {
      "cell_type": "code",
      "metadata": {
        "id": "a-MF-Jd-v10I"
      },
      "source": [
        "import numpy as np\n",
        "def is_eig(A):\n",
        "    w, v = np.linalg.eig(A)\n",
        "    print(f'Матрица A:\\n{A}')\n",
        "    print(f'Собственные значения:\\n{w}')\n",
        "    print(f'Собственные векторы:\\n{v}')"
      ],
      "execution_count": 2,
      "outputs": []
    },
    {
      "cell_type": "markdown",
      "metadata": {
        "id": "3yq2of-6wBm4"
      },
      "source": [
        "1. Найти собственные векторы и собственные значения для линейного оператора, заданного матрицей"
      ]
    },
    {
      "cell_type": "code",
      "metadata": {
        "colab": {
          "base_uri": "https://localhost:8080/"
        },
        "id": "ay9nOgEzwMQ0",
        "outputId": "b897a05b-78db-48d1-cac2-3fa02f45cea9"
      },
      "source": [
        "A = np.array([[-1, -6], [2, 6]])\n",
        "is_eig(A)"
      ],
      "execution_count": 2,
      "outputs": [
        {
          "output_type": "stream",
          "name": "stdout",
          "text": [
            "Матрица A:\n",
            "[[-1 -6]\n",
            " [ 2  6]]\n",
            "Собственные значения:\n",
            "[2. 3.]\n",
            "Собственные векторы:\n",
            "[[-0.89442719  0.83205029]\n",
            " [ 0.4472136  -0.5547002 ]]\n"
          ]
        }
      ]
    },
    {
      "cell_type": "markdown",
      "metadata": {
        "id": "rWJw84AqvaGJ"
      },
      "source": [
        "2. Пусть линейный оператор задан матрицей.установить, является ли вектор х=(1,1) собственным вектором этого линейного оператора.\n",
        "\n"
      ]
    },
    {
      "cell_type": "code",
      "metadata": {
        "colab": {
          "base_uri": "https://localhost:8080/"
        },
        "id": "TwVxh17qvjCv",
        "outputId": "551ea6d6-db33-4d0b-fc1d-29acd4c86fc2"
      },
      "source": [
        "A = np.array([[1, 1], [-1, 3]])\n",
        "is_eig(A)"
      ],
      "execution_count": 3,
      "outputs": [
        {
          "output_type": "stream",
          "name": "stdout",
          "text": [
            "Матрица A:\n",
            "[[ 1  1]\n",
            " [-1  3]]\n",
            "Собственные значения:\n",
            "[2.00000002 1.99999998]\n",
            "Собственные векторы:\n",
            "[[ 0.70710677 -0.70710679]\n",
            " [ 0.70710679 -0.70710677]]\n"
          ]
        }
      ]
    },
    {
      "cell_type": "markdown",
      "metadata": {
        "id": "aCHzbMP_wA8o"
      },
      "source": [
        "4. Пусть линейный оператор задан матрицей.Установить, является ли вектор x=(3, -3, -4) собственным вектором этого линейного оператора."
      ]
    },
    {
      "cell_type": "code",
      "metadata": {
        "colab": {
          "base_uri": "https://localhost:8080/"
        },
        "id": "lYmstu8GwK8m",
        "outputId": "2e6224cf-c725-4fc8-cd16-451c1e948b74"
      },
      "source": [
        "A = np.array([[0, 3, 0], [3, 0, 0], [0, 0, 3]])\n",
        "is_eig(A)"
      ],
      "execution_count": 4,
      "outputs": [
        {
          "output_type": "stream",
          "name": "stdout",
          "text": [
            "Матрица A:\n",
            "[[0 3 0]\n",
            " [3 0 0]\n",
            " [0 0 3]]\n",
            "Собственные значения:\n",
            "[ 3. -3.  3.]\n",
            "Собственные векторы:\n",
            "[[ 0.70710678 -0.70710678  0.        ]\n",
            " [ 0.70710678  0.70710678  0.        ]\n",
            " [ 0.          0.          1.        ]]\n"
          ]
        }
      ]
    }
  ]
}